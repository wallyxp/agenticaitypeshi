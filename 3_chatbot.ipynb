{
 "cells": [
  {
   "cell_type": "code",
   "execution_count": 1,
   "id": "563cf463",
   "metadata": {},
   "outputs": [
    {
     "data": {
      "text/plain": [
       "True"
      ]
     },
     "execution_count": 1,
     "metadata": {},
     "output_type": "execute_result"
    }
   ],
   "source": [
    "from dotenv import load_dotenv\n",
    "\n",
    "load_dotenv()"
   ]
  },
  {
   "cell_type": "code",
   "execution_count": 2,
   "id": "bd410eaf",
   "metadata": {},
   "outputs": [
    {
     "name": "stderr",
     "output_type": "stream",
     "text": [
      "WARNING: All log messages before absl::InitializeLog() is called are written to STDERR\n",
      "E0000 00:00:1758484505.178179   17627 alts_credentials.cc:93] ALTS creds ignored. Not running on GCP and untrusted ALTS is not enabled.\n"
     ]
    }
   ],
   "source": [
    "from langchain.chat_models import init_chat_model\n",
    "\n",
    "llm = init_chat_model(\"gemini-2.5-flash\", model_provider=\"google_genai\")"
   ]
  },
  {
   "cell_type": "markdown",
   "id": "9c63ce7b",
   "metadata": {},
   "source": [
    "**read about reducer functions**"
   ]
  },
  {
   "cell_type": "code",
   "execution_count": null,
   "id": "6f188b32",
   "metadata": {},
   "outputs": [],
   "source": [
    "from typing import TypedDict\n",
    "from typing_extensions import Annotated\n",
    "from langgraph.graph import StateGraph, START, END\n",
    "#reducer functio -> adds some kind of validation to messages\n",
    "from langgraph.graph.message import add_messages\n",
    "\n",
    "class State(TypedDict):\n",
    "    messages: Annotated[list, add_messages]\n",
    "\n",
    "def chatbot(state: State) -> State:\n",
    "    return {'messages': [llm.invoke(state['messages'])]}\n",
    "\n",
    "builder = StateGraph(State)\n",
    "builder.add_node('chatbot_node', chatbot)\n",
    "\n",
    "builder.add_edge(START, \"chatbot_node\")\n",
    "builder.add_edge(\"chatbot_node\", END)\n",
    "\n",
    "graph = builder.compile()"
   ]
  },
  {
   "cell_type": "code",
   "execution_count": 15,
   "id": "30a0b92a",
   "metadata": {},
   "outputs": [
    {
     "data": {
      "text/plain": [
       "[HumanMessage(content='Who is the current president of the United States?', additional_kwargs={}, response_metadata={}, id='5f298d7c-3f25-4608-b174-b8b8e842e8f1'),\n",
       " AIMessage(content='The current president of the United States is **Joe Biden**.\\n\\nHe took office on January 20, 2021.', additional_kwargs={}, response_metadata={'prompt_feedback': {'block_reason': 0, 'safety_ratings': []}, 'finish_reason': 'STOP', 'model_name': 'gemini-2.5-flash', 'safety_ratings': []}, id='run--8127e370-1c39-45ad-a668-3162b336dec5-0', usage_metadata={'input_tokens': 11, 'output_tokens': 139, 'total_tokens': 150, 'input_token_details': {'cache_read': 0}, 'output_token_details': {'reasoning': 111}})]"
      ]
     },
     "execution_count": 15,
     "metadata": {},
     "output_type": "execute_result"
    }
   ],
   "source": [
    "message = {'role': 'user', 'content':'Who is the current president of the United States?'}\n",
    "response = graph.invoke({'messages':[message]})\n",
    "\n",
    "response[\"messages\"]"
   ]
  },
  {
   "cell_type": "code",
   "execution_count": 17,
   "id": "9149df0f",
   "metadata": {},
   "outputs": [
    {
     "name": "stdout",
     "output_type": "stream",
     "text": [
      "Bot:  It is **2024**.\n",
      "Bot:  The current F1 World Drivers' Champion (WDC) is **Max Verstappen**.\n",
      "\n",
      "He won his third consecutive title in the **2023** season.\n",
      "Bot:  Max Verstappen is not married, so he does not have a wife.\n",
      "\n",
      "However, his long-term partner is **Kelly Piquet**.\n",
      "\n",
      "She is a Brazilian model, columnist, and blogger, and the daughter of three-time Formula 1 World Champion Nelson Piquet. She also has a daughter, Penelope, from a previous relationship with former F1 driver Daniil Kvyat, and Max is her stepfather.\n"
     ]
    }
   ],
   "source": [
    "state = None\n",
    "\n",
    "while True:\n",
    "    in_message = input(\"You : \")\n",
    "\n",
    "    if in_message.lower() in {\"quit\", \"exit\"}:\n",
    "        break\n",
    "\n",
    "    if state == None:\n",
    "        state: State = {\n",
    "            \"messages\": [{\"role\": \"user\", \"content\": in_message}]\n",
    "        }\n",
    "    else:\n",
    "        state[\"messages\"].append({\"role\": \"user\", \"content\": in_message})\n",
    "\n",
    "\n",
    "    state = graph.invoke(state)\n",
    "    print(\"Bot: \", state[\"messages\"][-1].content)"
   ]
  },
  {
   "cell_type": "code",
   "execution_count": null,
   "id": "df536c95",
   "metadata": {},
   "outputs": [],
   "source": []
  }
 ],
 "metadata": {
  "kernelspec": {
   "display_name": "agenticaitypeshi",
   "language": "python",
   "name": "python3"
  },
  "language_info": {
   "codemirror_mode": {
    "name": "ipython",
    "version": 3
   },
   "file_extension": ".py",
   "mimetype": "text/x-python",
   "name": "python",
   "nbconvert_exporter": "python",
   "pygments_lexer": "ipython3",
   "version": "3.13.3"
  }
 },
 "nbformat": 4,
 "nbformat_minor": 5
}
